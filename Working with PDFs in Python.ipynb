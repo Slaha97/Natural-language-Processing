{
 "cells": [
  {
   "cell_type": "markdown",
   "id": "5b67372a",
   "metadata": {},
   "source": [
    "<b>Portable Document Format (PDF)</b> files are a ubiquitous format for document exchange due to their platform independence and consistent formatting. In Python, several libraries provide tools to work with PDFs, allowing developers to manipulate, extract information, and create PDF files programmatically."
   ]
  },
  {
   "cell_type": "markdown",
   "id": "3a64b683",
   "metadata": {},
   "source": [
    "Before diving into the code, it’s essential to have a basic understanding of how PDFs work. PDFs, or Portable Document Format files, are a standardized format for document exchange. They can contain text, images, hyperlinks, forms, and more. In Python, several libraries simplify the process of working with PDFs."
   ]
  },
  {
   "cell_type": "markdown",
   "id": "acba1b8d",
   "metadata": {},
   "source": [
    "To begin, you need to install a PDF manipulation library. Two commonly used libraries are <b>PyPDF2</b> and <b>PyMuPDF</b>. You can install them using the following commands:"
   ]
  },
  {
   "cell_type": "code",
   "execution_count": 23,
   "id": "d05c357c",
   "metadata": {},
   "outputs": [
    {
     "name": "stdout",
     "output_type": "stream",
     "text": [
      "Requirement already satisfied: PyPDF2 in d:\\anac\\lib\\site-packages (3.0.1)\n",
      "Requirement already satisfied: pymupdf in d:\\anac\\lib\\site-packages (1.23.20)\n",
      "Requirement already satisfied: PyMuPDFb==1.23.9 in d:\\anac\\lib\\site-packages (from pymupdf) (1.23.9)\n"
     ]
    }
   ],
   "source": [
    "!pip install PyPDF2\n",
    "!pip install pymupdf"
   ]
  },
  {
   "cell_type": "markdown",
   "id": "d125c854",
   "metadata": {},
   "source": [
    "### Extracting Text from a PDF:"
   ]
  },
  {
   "cell_type": "markdown",
   "id": "7c9a45bd",
   "metadata": {},
   "source": [
    "##### Using PyPDF2:"
   ]
  },
  {
   "cell_type": "code",
   "execution_count": 24,
   "id": "674949ff",
   "metadata": {
    "scrolled": true
   },
   "outputs": [],
   "source": [
    "# importing required modules\n",
    "import PyPDF2"
   ]
  },
  {
   "cell_type": "code",
   "execution_count": 25,
   "id": "16726276",
   "metadata": {},
   "outputs": [],
   "source": [
    "#We accessed the “a83f8926-4718-4806-8eb3-670fffa171c7.pdf” file in binary mode and assigned the resulting file object to the variable pdfFileObj.\n",
    "# creating a pdf file object\n",
    "pdfFileObj = open('a83f8926-4718-4806-8eb3-670fffa171c7.pdf', 'rb')"
   ]
  },
  {
   "cell_type": "code",
   "execution_count": 26,
   "id": "377710b4",
   "metadata": {},
   "outputs": [],
   "source": [
    "# creating a pdf reader object\n",
    "#we instantiate a PdfReader class object from the PyPDF2 module, utilizing a PDF file object as a parameter, thereby obtaining a PDF reader object.\n",
    "pdfReader = PyPDF2.PdfReader(pdfFileObj)"
   ]
  },
  {
   "cell_type": "code",
   "execution_count": 27,
   "id": "35a14299",
   "metadata": {},
   "outputs": [
    {
     "name": "stdout",
     "output_type": "stream",
     "text": [
      "1\n"
     ]
    }
   ],
   "source": [
    "# printing number of pages in pdf file\n",
    "#The ‘pages’ attribute indicates the quantity of pages present in the PDF document\n",
    "print(len(pdfReader.pages))"
   ]
  },
  {
   "cell_type": "code",
   "execution_count": 28,
   "id": "3088fa15",
   "metadata": {},
   "outputs": [],
   "source": [
    "#Instantiate an object from the PageObject class within the PyPDF2 module. The PDF reader object provides a pages[] function that, when given a page number (indexed from 0), yields the corresponding page object.\n",
    "# creating a page object\n",
    "pageObj = pdfReader.pages[0]"
   ]
  },
  {
   "cell_type": "code",
   "execution_count": 29,
   "id": "7cef5e9f",
   "metadata": {},
   "outputs": [
    {
     "name": "stdout",
     "output_type": "stream",
     "text": [
      "Online Payment Receipt\n",
      "Dear Customer,\n",
      "You have successfully completed your recharge\n",
      "The details of your transaction are below. Kindly quote your transaction ID for\n",
      "future communications.\n",
      "Mobile Number:\n",
      "Recharge Amount:\n",
      "Payment Date & Time:\n",
      "Order Id:\n",
      "Recharge Description:\n",
      "Recharge Validity:\n",
      "8334907556\n",
      "Rs. 719\n",
      "01-Feb-2024 | 14:24PM\n",
      "PRE7508425834877556\n",
      "Unlimited -719\n",
      "84 Days\n",
      "If you have any questions concerning this receipt, please email\n",
      "customercare@vodafoneidea.com\n",
      "THANK YOU FOR YOUR BUSINESS!\n"
     ]
    }
   ],
   "source": [
    "#The page object provides a method called extract_text() designed for retrieving text content from the PDF page.\n",
    "print(pageObj.extract_text())"
   ]
  },
  {
   "cell_type": "code",
   "execution_count": 30,
   "id": "c4130787",
   "metadata": {},
   "outputs": [],
   "source": [
    "#At last, we close the PDF file object.\n",
    "pdfFileObj.close()"
   ]
  },
  {
   "cell_type": "markdown",
   "id": "6a131d58",
   "metadata": {},
   "source": [
    "### Merging PDFs:"
   ]
  },
  {
   "cell_type": "markdown",
   "id": "7e0d56df",
   "metadata": {},
   "source": [
    "##### Using PyPDF2"
   ]
  },
  {
   "cell_type": "code",
   "execution_count": 31,
   "id": "91839792",
   "metadata": {},
   "outputs": [],
   "source": [
    "import PyPDF2"
   ]
  },
  {
   "cell_type": "code",
   "execution_count": 32,
   "id": "63b95797",
   "metadata": {},
   "outputs": [],
   "source": [
    "#Creating a function named merge_pdfs that takes a list of PDF files (pdf_list) and an output path (output_path) as parameters.\n",
    "def merge_pdfs(pdf_list, output_path):\n",
    "    #Within the function, initializing a PdfMerger object from PyPDF2. This object will be used to merge the PDF files.\n",
    "    pdf_merger = PyPDF2.PdfMerger()\n",
    "    #Using a for loop to iterate over each PDF file in the provided list (pdf_list).\n",
    "    #Appending each PDF file to the pdf_merger object.\n",
    "    for pdf in pdf_list:\n",
    "        pdf_merger.append(pdf)\n",
    "    #Opening the specified output_path in write-binary mode ('wb').\n",
    "    #Writing the merged content from the pdf_merger object to the newly created file.\n",
    "    with open(output_path, 'wb') as merged_pdf:\n",
    "        pdf_merger.write(merged_pdf)\n",
    "        \n",
    "#Defining a list of input PDF files (pdf_list) to be merged.\n",
    "#Specifying the desired output path for the merged PDF (output_path).\n",
    "pdf_list = ['T2-NLP_Course outline 2023 .docx.pdf', 'T3-NLU_Course outline 2023 .docx.pdf']\n",
    "output_path = 'merged.pdf'\n",
    "\n",
    "#Invoking the merge_pdfs function with the specified input parameters.\n",
    "merge_pdfs(pdf_list, output_path)"
   ]
  },
  {
   "cell_type": "markdown",
   "id": "a06ee550",
   "metadata": {},
   "source": [
    "##### In summary, \n",
    "this code defines a function to merge multiple PDF files into a single PDF. The function utilizes the PdfMerger class from PyPDF2, iterates through the provided list of PDFs, appends them to the merger object, and then writes the merged content to the specified output file. Finally, the function is called with a sample list of input PDFs and an output path."
   ]
  },
  {
   "cell_type": "markdown",
   "id": "2a490168",
   "metadata": {},
   "source": [
    "### Creating a PDF"
   ]
  },
  {
   "cell_type": "markdown",
   "id": "590b6190",
   "metadata": {},
   "source": [
    "#### Using PyPDF2:"
   ]
  },
  {
   "cell_type": "code",
   "execution_count": 51,
   "id": "50bee485",
   "metadata": {},
   "outputs": [],
   "source": [
    "import PyPDF2\n",
    "\n",
    "# Creating a function named create_pdf that takes an output path (output_path) and a content source (content) as parameters.\n",
    "def create_pdf(output_path, content):\n",
    "    # Initialize a PdfFileWriter object to write the new PDF.\n",
    "    pdf_writer = PyPDF2.PdfWriter()\n",
    "    \n",
    "    # Open the existing PDF file for reading using PdfFileReader.\n",
    "    pdf_reader = PyPDF2.PdfReader(open(content, 'rb'))\n",
    "    \n",
    "    # Add the first page (indexed at 0) from the existing PDF to the PdfFileWriter.\n",
    "    pdf_writer.add_page(pdf_reader.pages[0])\n",
    "    \n",
    "    # Open the specified output_path in write-binary mode ('wb') and write the new PDF.\n",
    "    with open(output_path, 'wb') as new_pdf:\n",
    "        pdf_writer.write(new_pdf)\n",
    "\n",
    "# Specify the path to the existing PDF file and the output path for the new PDF file.\n",
    "content = 'a83f8926-4718-4806-8eb3-670fffa171c7.pdf'  # Replace with the path to an existing PDF file\n",
    "output_path = 'new_pdf_2.pdf'\n",
    "\n",
    "# Invoking the create_pdf function with the specified input parameters.\n",
    "create_pdf(output_path, content)\n"
   ]
  },
  {
   "cell_type": "markdown",
   "id": "55f6433c",
   "metadata": {},
   "source": [
    "##### In summary, \n",
    "this code defines a function to create a new PDF by extracting a page from an existing PDF. It utilizes the PdfWriter class from PyPDF2, adds a specific page from the source PDF, and then writes the content to the newly created PDF file. The function is called with a sample input PDF and an output path."
   ]
  },
  {
   "cell_type": "markdown",
   "id": "96208a23",
   "metadata": {},
   "source": [
    "### Rotating PDF pages:"
   ]
  },
  {
   "cell_type": "code",
   "execution_count": 52,
   "id": "f71f9950",
   "metadata": {},
   "outputs": [],
   "source": [
    "# importing the required modules\n",
    "import PyPDF2\n",
    "\n",
    "def PDFrotate(origFileName, newFileName, rotation):\n",
    "\n",
    " # creating a pdf File object of original pdf\n",
    " pdfFileObj = open(origFileName, 'rb')\n",
    "\n",
    " # creating a pdf Reader object\n",
    " pdfReader = PyPDF2.PdfReader(pdfFileObj)\n",
    "\n",
    " # creating a pdf writer object for new pdf\n",
    " pdfWriter = PyPDF2.PdfWriter()\n",
    "\n",
    " # rotating each page\n",
    " for page in range(len(pdfReader.pages)):\n",
    "\n",
    "  # creating rotated page object\n",
    "  pageObj = pdfReader.pages[page]\n",
    "  pageObj.rotate(rotation)\n",
    "\n",
    "  # adding rotated page object to pdf writer\n",
    "  pdfWriter.add_page(pageObj)\n",
    "\n",
    "  # new pdf file object\n",
    "  newFile = open(newFileName, 'wb')\n",
    "\n",
    "  # writing rotated pages to new file\n",
    "  pdfWriter.write(newFile)\n",
    "\n",
    " # closing the original pdf file object\n",
    " pdfFileObj.close()\n",
    "\n",
    " # closing the new pdf file object\n",
    " newFile.close()\n",
    "\n",
    "\n",
    "def main():\n",
    "\n",
    " # original pdf file name\n",
    " origFileName = 'a83f8926-4718-4806-8eb3-670fffa171c7.pdf'\n",
    "\n",
    " # new pdf file name\n",
    " newFileName = 'rotated_new.pdf'\n",
    "\n",
    " # rotation angle\n",
    " rotation = 270\n",
    "\n",
    " # calling the PDFrotate function\n",
    " PDFrotate(origFileName, newFileName, rotation)\n",
    "\n",
    "if __name__ == \"__main__\":\n",
    " # calling the main function\n",
    " main()"
   ]
  }
 ],
 "metadata": {
  "kernelspec": {
   "display_name": "Python 3 (ipykernel)",
   "language": "python",
   "name": "python3"
  },
  "language_info": {
   "codemirror_mode": {
    "name": "ipython",
    "version": 3
   },
   "file_extension": ".py",
   "mimetype": "text/x-python",
   "name": "python",
   "nbconvert_exporter": "python",
   "pygments_lexer": "ipython3",
   "version": "3.11.5"
  }
 },
 "nbformat": 4,
 "nbformat_minor": 5
}
